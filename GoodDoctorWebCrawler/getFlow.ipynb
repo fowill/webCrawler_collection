{
 "cells": [
  {
   "cell_type": "code",
   "execution_count": 13,
   "metadata": {},
   "outputs": [],
   "source": [
    "from selenium import webdriver\n",
    "import time\n",
    "from selenium.webdriver.common.action_chains import ActionChains\n",
    "from selenium.webdriver.common.keys import Keys\n",
    "\n",
    "url = 'https://www.linkedin.com/in/红军-于-168268121/'\n",
    "\n",
    "driver = webdriver.Chrome()\n",
    "driver.get(url)\n",
    "time.sleep(1)\n",
    "login = driver.find_element_by_xpath('/html/body/main/div/div/form[2]/section/p/a')\n",
    "login.click()\n",
    "time.sleep(1)\n",
    "nameBox = driver.find_element_by_xpath('//*[@id=\"login-email\"]')\n",
    "passwordBox = driver.find_element_by_xpath('//*[@id=\"login-password\"]')\n",
    "nameBox.send_keys('username')\n",
    "passwordBox.send_keys('password')\n",
    "\n",
    "driver.find_element_by_xpath('//*[@id=\"login-submit\"]').click()"
   ]
  },
  {
   "cell_type": "code",
   "execution_count": null,
   "metadata": {},
   "outputs": [],
   "source": [
    "xpath = '/html/body/section/section[3]/section[1]/a'\n",
    "/html/body/section/section[3]/section[2]/a"
   ]
  },
  {
   "cell_type": "code",
   "execution_count": 1,
   "metadata": {},
   "outputs": [],
   "source": [
    "import requests\n",
    "import time\n",
    "from lxml import etree"
   ]
  },
  {
   "cell_type": "code",
   "execution_count": 17,
   "metadata": {},
   "outputs": [
    {
     "name": "stdout",
     "output_type": "stream",
     "text": [
      "['/doctorteam/flow_team_6480272479.htm', '/doctorteam/flow_team_6480105046.htm', '/doctorteam/flow_team_6479022317.htm', '/doctorteam/flow_team_6478370970.htm', '/doctorteam/flow_team_6478041859.htm', '/doctorteam/flow_team_6477972858.htm', '/doctorteam/flow_team_6465810571.htm', '/doctorteam/flow_team_6476616777.htm', '/doctorteam/flow_team_6476467839.htm', '/doctorteam/flow_team_6476281078.htm', '/doctorteam/flow_team_6474190776.htm', '/doctorteam/flow_team_6473276030.htm', '/doctorteam/flow_team_6475627170.htm', '/doctorteam/flow_team_6473608160.htm', '/doctorteam/flow_team_6474156541.htm', '/doctorteam/flow_team_6474019095.htm', '/doctorteam/flow_team_6473986704.htm', '/doctorteam/flow_team_6468752821.htm', '/doctorteam/flow_team_6473227261.htm', '/doctorteam/flow_team_6473745059.htm']\n"
     ]
    }
   ],
   "source": [
    "\n",
    "headers = {'User-Agent':'Mozilla/5.0 (Windows NT 6.1; WOW64) AppleWebKit/537.36 (KHTML, like Gecko) Chrome/63.0.3239.132 Safari/537.36 QIHU 360SE'}\n",
    "r = requests.get(url,headers=headers).text\n",
    "#print(r)\n",
    "h = etree.HTML(r)\n",
    "elements = h.xpath('/html/body/section/section[3]//section/a/@href')\n",
    "print(elements) "
   ]
  },
  {
   "cell_type": "code",
   "execution_count": 18,
   "metadata": {},
   "outputs": [
    {
     "data": {
      "text/plain": [
       "20"
      ]
     },
     "execution_count": 18,
     "metadata": {},
     "output_type": "execute_result"
    }
   ],
   "source": [
    "len(elements)"
   ]
  },
  {
   "cell_type": "code",
   "execution_count": null,
   "metadata": {},
   "outputs": [],
   "source": []
  }
 ],
 "metadata": {
  "kernelspec": {
   "display_name": "Python 3",
   "language": "python",
   "name": "python3"
  },
  "language_info": {
   "codemirror_mode": {
    "name": "ipython",
    "version": 3
   },
   "file_extension": ".py",
   "mimetype": "text/x-python",
   "name": "python",
   "nbconvert_exporter": "python",
   "pygments_lexer": "ipython3",
   "version": "3.7.3"
  }
 },
 "nbformat": 4,
 "nbformat_minor": 2
}
